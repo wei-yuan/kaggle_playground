{
 "cells": [
  {
   "cell_type": "code",
   "execution_count": 1,
   "metadata": {},
   "outputs": [
    {
     "name": "stderr",
     "output_type": "stream",
     "text": [
      "Using TensorFlow backend.\n"
     ]
    }
   ],
   "source": [
    "from pandas import read_csv\n",
    "from pandas import DataFrame\n",
    "from pandas import concat\n",
    "import numpy\n",
    "import math\n",
    "from datetime import datetime\n",
    "import tzlocal\n",
    "import matplotlib.pyplot as plt\n",
    "import seaborn as sns\n",
    "from sklearn import preprocessing\n",
    "from sklearn.preprocessing import MinMaxScaler\n",
    "from sklearn.metrics import mean_squared_error\n",
    "\n",
    "# Model\n",
    "from sklearn.neural_network import MLPClassifier\n",
    "from keras.models import Sequential\n",
    "from keras.layers import Dense\n",
    "from keras.layers import LSTM\n",
    "\n",
    "# Validation tool\n",
    "from sklearn.model_selection import KFold\n",
    "from sklearn.model_selection import train_test_split\n",
    "from sklearn.model_selection import StratifiedShuffleSplit\n",
    "from sklearn.metrics import mean_squared_error\n",
    "from keras.wrappers.scikit_learn import KerasRegressor\n",
    "from sklearn.model_selection import cross_val_score"
   ]
  },
  {
   "cell_type": "code",
   "execution_count": 5,
   "metadata": {},
   "outputs": [
    {
     "name": "stdout",
     "output_type": "stream",
     "text": [
      "       HOUR  CALL_TYPE  TAXI_ID  POLYLINE\n",
      "0  0.111111        1.0    0.625  0.130137\n",
      "1  0.333333        0.5    0.750  0.116438\n",
      "2  0.444444        0.0    0.000  0.404110\n",
      "3  0.666667        0.5    0.000  0.260274\n",
      "4  0.888889        0.0    0.250  0.198630\n"
     ]
    }
   ],
   "source": [
    "dataset = read_csv('reordered.csv')\n",
    "values  = dataset.values\n",
    "print (dataset.head(5))"
   ]
  },
  {
   "cell_type": "code",
   "execution_count": 3,
   "metadata": {},
   "outputs": [
    {
     "name": "stdout",
     "output_type": "stream",
     "text": [
      "10\n"
     ]
    }
   ],
   "source": [
    "n_data = len(dataset.index)\n",
    "print n_data"
   ]
  },
  {
   "cell_type": "code",
   "execution_count": 8,
   "metadata": {},
   "outputs": [],
   "source": [
    "n_data = len(dataset.index) # total number of data\n",
    "fields = ['HOUR', 'CALL_TYPE', 'TAXI_ID']\n",
    "train = read_csv('reordered.csv', usecols=fields)\n",
    "label = dataset.POLYLINE"
   ]
  },
  {
   "cell_type": "code",
   "execution_count": 9,
   "metadata": {},
   "outputs": [
    {
     "name": "stdout",
     "output_type": "stream",
     "text": [
      "       HOUR  CALL_TYPE  TAXI_ID\n",
      "0  0.111111        1.0    0.625\n",
      "1  0.333333        0.5    0.750\n",
      "2  0.444444        0.0    0.000\n",
      "3  0.666667        0.5    0.000\n",
      "4  0.888889        0.0    0.250\n"
     ]
    }
   ],
   "source": [
    "print train.head(5)"
   ]
  },
  {
   "cell_type": "code",
   "execution_count": 10,
   "metadata": {},
   "outputs": [
    {
     "name": "stdout",
     "output_type": "stream",
     "text": [
      "0    0.130137\n",
      "1    0.116438\n",
      "2    0.404110\n",
      "3    0.260274\n",
      "4    0.198630\n",
      "Name: POLYLINE, dtype: float64\n"
     ]
    }
   ],
   "source": [
    "print label.head(5)"
   ]
  },
  {
   "cell_type": "code",
   "execution_count": null,
   "metadata": {},
   "outputs": [],
   "source": [
    "def linear_regression_model():\n",
    "    # create model\n",
    "    model = Sequential()\n",
    "    model.add(Dense(13, input_dim=3, kernel_initializer='normal', activation='relu'))\n",
    "    model.add(Dense(1, kernel_initializer='normal'))\n",
    "    # Compile model\n",
    "    model.compile(loss='mean_squared_error', optimizer='adam')\n",
    "    return model\n",
    "\n",
    "########################\n",
    "#------Evaluation------#\n",
    "########################\n",
    "\n",
    "# evaluate model with standardized dataset\n",
    "estimator = KerasRegressor(build_fn=linear_regression_model, nb_epoch=100, batch_size=1, verbose=0)\n",
    "results = cross_val_score(estimator, train, label)\n",
    "print(\"Results: %.2f (%.2f) MSE\" % (results.mean(), results.std()))"
   ]
  }
 ],
 "metadata": {
  "kernelspec": {
   "display_name": "Python 2",
   "language": "python",
   "name": "python2"
  },
  "language_info": {
   "codemirror_mode": {
    "name": "ipython",
    "version": 2
   },
   "file_extension": ".py",
   "mimetype": "text/x-python",
   "name": "python",
   "nbconvert_exporter": "python",
   "pygments_lexer": "ipython2",
   "version": "2.7.12"
  }
 },
 "nbformat": 4,
 "nbformat_minor": 2
}
